{
 "cells": [
  {
   "cell_type": "markdown",
   "metadata": {},
   "source": [
    "# 0. copy from GitHub"
   ]
  },
  {
   "cell_type": "code",
   "execution_count": null,
   "metadata": {},
   "outputs": [],
   "source": [
    "!git clone https://github.com/adrianop01/hover_net.git"
   ]
  },
  {
   "cell_type": "markdown",
   "metadata": {},
   "source": [
    "then open hover_net/main.ipynb"
   ]
  },
  {
   "cell_type": "markdown",
   "metadata": {},
   "source": [
    "# 1. Upload raw dataset in hover_net/data"
   ]
  },
  {
   "cell_type": "code",
   "execution_count": null,
   "metadata": {},
   "outputs": [],
   "source": [
    "!wget https://warwick.ac.uk/fac/cross_fac/tia/data/hovernet/consep.zip "
   ]
  },
  {
   "cell_type": "code",
   "execution_count": null,
   "metadata": {},
   "outputs": [],
   "source": [
    "!mkdir ./hover_net/data"
   ]
  },
  {
   "cell_type": "code",
   "execution_count": null,
   "metadata": {},
   "outputs": [],
   "source": [
    "!unzip consep.zip -d ./hover_net/data"
   ]
  },
  {
   "cell_type": "markdown",
   "metadata": {},
   "source": [
    "# 2. run extract_patches.py \n",
    "\n",
    "make sure that the correct path/options have been selected in extract_patches.py, edit if necessary. (consep now for testing only, not our comptition dataset!)"
   ]
  },
  {
   "cell_type": "code",
   "execution_count": null,
   "metadata": {},
   "outputs": [],
   "source": [
    "!python extract_patches.py"
   ]
  },
  {
   "cell_type": "markdown",
   "metadata": {},
   "source": [
    "# 3. run run_train.py"
   ]
  },
  {
   "cell_type": "markdown",
   "metadata": {},
   "source": [
    "Make sure that the config.py and model specified opt.py have the correct parameters."
   ]
  },
  {
   "cell_type": "markdown",
   "metadata": {},
   "source": [
    "run_train.py\n",
    "\n",
    "Main HoVer-Net training script.\n",
    "\n",
    "Usage:\n",
    "\n",
    "  run_train.py [--gpu=<id>] [--view=<dset>]\n",
    "\n",
    "  run_train.py (-h | --help)\n",
    "\n",
    "  run_train.py --version\n",
    "\n",
    "Options:\n",
    "\n",
    "  -h --help       Show this string.\n",
    "\n",
    "  --version       Show version.\n",
    "\n",
    "  --gpu=<id>      Comma separated GPU list. [default: 0,1,2,3]\n",
    "\n",
    "  --view=<dset>   Visualise images after augmentation. Choose 'train' or 'valid'.\n",
    "  \n"
   ]
  },
  {
   "cell_type": "code",
   "execution_count": null,
   "metadata": {},
   "outputs": [],
   "source": [
    "!python run_train.py"
   ]
  },
  {
   "cell_type": "markdown",
   "metadata": {},
   "source": [
    "Note that results is saved in logs folder."
   ]
  }
 ],
 "metadata": {
  "language_info": {
   "name": "python"
  },
  "orig_nbformat": 4
 },
 "nbformat": 4,
 "nbformat_minor": 2
}
